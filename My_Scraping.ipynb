{
  "cells": [
    {
      "cell_type": "markdown",
      "metadata": {
        "id": "view-in-github",
        "colab_type": "text"
      },
      "source": [
        "<a href=\"https://colab.research.google.com/github/ShaxobiddinMukhiddinov/Web_Scraping/blob/main/Untitled1.ipynb\" target=\"_parent\"><img src=\"https://colab.research.google.com/assets/colab-badge.svg\" alt=\"Open In Colab\"/></a>"
      ]
    },
    {
      "cell_type": "markdown",
      "metadata": {
        "id": "dpgNEfggXbgi"
      },
      "source": [
        "***Installtion***"
      ]
    },
    {
      "cell_type": "code",
      "execution_count": null,
      "metadata": {
        "id": "pm6UNKXvXm9l"
      },
      "outputs": [],
      "source": [
        "import requests\n",
        "from bs4 import BeautifulSoup\n",
        "from operator import itemgetter\n",
        "from pandas._libs import index\n",
        "from pandas.core.frame import DataFrame\n",
        "import pandas as pd\n",
        "import seaborn as sns\n",
        "import matplotlib.pyplot as plt\n"
      ]
    },
    {
      "cell_type": "markdown",
      "metadata": {
        "id": "ttAh3A9RXvt1"
      },
      "source": [
        "Get data with request"
      ]
    },
    {
      "cell_type": "code",
      "execution_count": null,
      "metadata": {
        "id": "4eBVI_-TX0iS"
      },
      "outputs": [],
      "source": [
        "result = requests.get('https://kun.uz/uz/')\n",
        "News = BeautifulSoup(result.text,'html.parser').find_all('a',class_=\"news-lenta\")\n"
      ]
    },
    {
      "cell_type": "markdown",
      "metadata": {
        "id": "5Q44dO8b0xHv"
      },
      "source": [
        "Yangiliklar orasidan biriga kirib undagi mantni olish"
      ]
    },
    {
      "cell_type": "code",
      "execution_count": null,
      "metadata": {
        "id": "GsLVT8u-yL9r"
      },
      "outputs": [],
      "source": [
        "link ='https://kun.uz'+str(News[4]).split()[2][6:-2]\n",
        "request2 = requests.get(link).text\n",
        "soup = BeautifulSoup(request2,'html.parser').select_one('div.single-content')\n",
        "\n",
        "word_list = ['bu','yoki','haqida','esa','va','bilan','deya','lekin','uchun','unga','qildi','-','u',\",\",\".\"]"
      ]
    },
    {
      "cell_type": "code",
      "execution_count": null,
      "metadata": {
        "id": "sEe7njdUkgSS"
      },
      "outputs": [],
      "source": [
        "res2 = []\n",
        "res = soup.find_all(\"p\")\n",
        "\n",
        "for x in res:\n",
        "  res2.append(x.text)\n",
        "\n",
        "res2= str(res2).lower().split()\n",
        "\n",
        "toza_data =[]\n",
        "for i in res2:\n",
        "  if  not  i.isdigit():\n",
        "      if i not in word_list:\n",
        "        toza_data.append(i)\n",
        "\n",
        "DATA = {}\n",
        "for k in toza_data:\n",
        "  words_count = toza_data.count(k)\n",
        "  DATA[k] = words_count\n",
        "\n",
        "\n",
        "sort = sorted(DATA.items(), key=itemgetter(1), reverse=True)\n",
        "sort = sort[0:11]\n"
      ]
    },
    {
      "cell_type": "markdown",
      "source": [
        "Pandas"
      ],
      "metadata": {
        "id": "L1xpeN08hnaK"
      }
    },
    {
      "cell_type": "code",
      "execution_count": null,
      "metadata": {
        "id": "wbM11MsflNfK",
        "colab": {
          "base_uri": "https://localhost:8080/",
          "height": 279
        },
        "outputId": "af7fd15a-4f58-4f3a-9f75-104c162976e2"
      },
      "outputs": [
        {
          "output_type": "display_data",
          "data": {
            "text/plain": [
              "<Figure size 432x288 with 1 Axes>"
            ],
            "image/png": "[encoded data removed]"
          },
          "metadata": {
            "needs_background": "light"
          }
        }
      ],
      "source": [
        "\n",
        "data_frame = DataFrame(sort)\n",
        "data_frame = data_frame.rename(columns={0: 'words', 1: 'Count'})\n",
        "sns.barplot(x='Count', y='words', data=data_frame)\n",
        "plt.show()\n",
        "\n"
      ]
    }
  ],
  "metadata": {
    "colab": {
      "collapsed_sections": [],
      "name": "Untitled1.ipynb",
      "provenance": [],
      "authorship_tag": "ABX9TyOWrqh3NAJuaNyqjZzN4YRE",
      "include_colab_link": true
    },
    "kernelspec": {
      "display_name": "Python 3",
      "name": "python3"
    },
    "language_info": {
      "name": "python"
    }
  },
  "nbformat": 4,
  "nbformat_minor": 0
}
